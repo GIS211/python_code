{
 "cells": [
  {
   "cell_type": "code",
   "execution_count": null,
   "metadata": {},
   "outputs": [],
   "source": [
    "\"华侨城公园悦府\"\n",
    "\"北大资源颐和1898\"\n",
    "\"东骧神骏二期\"\n",
    "\"领秀知识城国门府\"\n",
    "\"兰亭广场\"\n",
    "\"金科江湖海\"\n",
    "\"大观首府\"\n",
    "\"翰林澜山\"\n",
    "\"虹桥立交桥\""
   ]
  }
 ],
 "metadata": {
  "kernelspec": {
   "display_name": "Python 3",
   "language": "python",
   "name": "python3"
  },
  "language_info": {
   "codemirror_mode": {
    "name": "ipython",
    "version": 3
   },
   "file_extension": ".py",
   "mimetype": "text/x-python",
   "name": "python",
   "nbconvert_exporter": "python",
   "pygments_lexer": "ipython3",
   "version": "3.7.3"
  }
 },
 "nbformat": 4,
 "nbformat_minor": 2
}
